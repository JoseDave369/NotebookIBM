{
 "cells": [
  {
   "cell_type": "markdown",
   "id": "a126a4a3-0381-4cc6-ad87-e3e814c69327",
   "metadata": {},
   "source": [
    "# Proyecto Final - Ciencia de Datos con Jupyterlite Notebook\n"
   ]
  },
  {
   "cell_type": "markdown",
   "id": "743a57be-e731-458f-a0dd-4f90685a8998",
   "metadata": {},
   "source": [
    "## Introducción\n",
    "En este cuaderno exploraremos herramientas, bibliotecas y lenguajes clave en Ciencia de Datos.  \n",
    "También ejecutaremos algunas operaciones matemáticas básicas y compartiremos el cuaderno en GitHub.\n"
   ]
  },
  {
   "cell_type": "markdown",
   "id": "7fdbddda-2537-4211-b37a-c3b1c6e29e70",
   "metadata": {},
   "source": [
    "## Lenguajes de Programación en Ciencia de Datos\n",
    "Algunos lenguajes utilizados en Ciencia de Datos son:\n",
    "- Python\n",
    "- R\n",
    "- SQL\n",
    "- Julia\n",
    "- Scala\n"
   ]
  },
  {
   "cell_type": "markdown",
   "id": "fd322d7b-6611-4cf7-94ce-5dd0b584f460",
   "metadata": {},
   "source": [
    "## Bibliotecas Populares en Ciencia de Datos\n",
    "Las siguientes bibliotecas son ampliamente utilizadas:\n",
    "- NumPy\n",
    "- Pandas\n",
    "- Matplotlib\n",
    "- Seaborn\n",
    "- Scikit-learn\n",
    "- TensorFlow\n",
    "- PyTorch\n"
   ]
  },
  {
   "cell_type": "markdown",
   "id": "7ea264cd-e853-4547-a5da-068326af445b",
   "metadata": {},
   "source": [
    "## Herramientas de Ciencia de Datos\n",
    "\n",
    "| Herramienta         | Descripción                              |\n",
    "|---------------------|-----------------------------------------|\n",
    "| Jupyter Notebook   | Entorno interactivo para ejecutar código |\n",
    "| RStudio           | IDE para análisis de datos en R          |\n",
    "| Apache Spark      | Procesamiento de datos a gran escala    |\n",
    "| TensorFlow        | Framework para Machine Learning         |\n"
   ]
  },
  {
   "cell_type": "markdown",
   "id": "27fdf3d7-c029-4ecc-8e61-dca5ed85a4cc",
   "metadata": {},
   "source": [
    "## Expresiones Aritméticas en Python\n",
    "Las expresiones aritméticas incluyen operaciones como suma (`+`), resta (`-`), multiplicación (`*`) y división (`/`).\n",
    "\n",
    "Ejemplo:\n",
    "- **3 + 2** → Resultado: 5\n",
    "- **10 * 3** → Resultado: 30\n"
   ]
  },
  {
   "cell_type": "code",
   "execution_count": 1,
   "id": "2ccc7c41-8db9-44de-ad54-b991ecea54df",
   "metadata": {},
   "outputs": [
    {
     "data": {
      "text/plain": [
       "25"
      ]
     },
     "execution_count": 1,
     "metadata": {},
     "output_type": "execute_result"
    }
   ],
   "source": [
    "# Multiplicación y Suma\n",
    "a = 5\n",
    "b = 3\n",
    "resultado = (a * b) + 10\n",
    "resultado\n"
   ]
  },
  {
   "cell_type": "code",
   "execution_count": 2,
   "id": "4c54b2ae-c680-472f-9201-fb10f2713680",
   "metadata": {},
   "outputs": [
    {
     "data": {
      "text/plain": [
       "2.0"
      ]
     },
     "execution_count": 2,
     "metadata": {},
     "output_type": "execute_result"
    }
   ],
   "source": [
    "# Convertir minutos en horas\n",
    "minutos = 120\n",
    "horas = minutos / 60\n",
    "horas\n"
   ]
  },
  {
   "cell_type": "code",
   "execution_count": 3,
   "id": "518b4215-b56d-49d9-b228-d5d4dfbcf45d",
   "metadata": {},
   "outputs": [
    {
     "name": "stdout",
     "output_type": "stream",
     "text": [
      "- Aprender sobre Jupyter Notebooks\n",
      "- Explorar herramientas de Ciencia de Datos\n",
      "- Practicar operaciones matemáticas en Python\n",
      "- Compartir el cuaderno en GitHub\n"
     ]
    }
   ],
   "source": [
    "# Lista de objetivos\n",
    "objetivos = [\n",
    "    \"Aprender sobre Jupyter Notebooks\",\n",
    "    \"Explorar herramientas de Ciencia de Datos\",\n",
    "    \"Practicar operaciones matemáticas en Python\",\n",
    "    \"Compartir el cuaderno en GitHub\"\n",
    "]\n",
    "for obj in objetivos:\n",
    "    print(\"-\", obj)\n"
   ]
  },
  {
   "cell_type": "markdown",
   "id": "f566b5ef-8811-41c8-80a2-83e6439cacac",
   "metadata": {},
   "source": [
    "## Autor\n",
    "Este cuaderno ha sido creado por: **Jose Gomez**\n"
   ]
  },
  {
   "cell_type": "code",
   "execution_count": null,
   "id": "2225ba44-bbac-42a4-a88f-08e666b263b9",
   "metadata": {},
   "outputs": [],
   "source": []
  }
 ],
 "metadata": {
  "kernelspec": {
   "display_name": "Python 3 (ipykernel)",
   "language": "python",
   "name": "python3"
  },
  "language_info": {
   "codemirror_mode": {
    "name": "ipython",
    "version": 3
   },
   "file_extension": ".py",
   "mimetype": "text/x-python",
   "name": "python",
   "nbconvert_exporter": "python",
   "pygments_lexer": "ipython3",
   "version": "3.12.8"
  }
 },
 "nbformat": 4,
 "nbformat_minor": 5
}
