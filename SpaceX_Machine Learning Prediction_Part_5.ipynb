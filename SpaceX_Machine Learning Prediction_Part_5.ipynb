{
  "metadata": {
    "kernelspec": {
      "name": "python",
      "display_name": "Python (Pyodide)",
      "language": "python"
    },
    "language_info": {
      "codemirror_mode": {
        "name": "python",
        "version": 3
      },
      "file_extension": ".py",
      "mimetype": "text/x-python",
      "name": "python",
      "nbconvert_exporter": "python",
      "pygments_lexer": "ipython3",
      "version": "3.8"
    },
    "prev_pub_hash": "a346f9a1ed73cbc6ac683dcfe38703902d239c53d46943d80353041cf8f794f8"
  },
  "nbformat_minor": 4,
  "nbformat": 4,
  "cells": [
    {
      "cell_type": "markdown",
      "source": "<p style=\"text-align:center\">\n    <a href=\"https://skills.network/?utm_medium=Exinfluencer&utm_source=Exinfluencer&utm_content=000026UJ&utm_term=10006555&utm_id=NA-SkillsNetwork-Channel-SkillsNetworkCoursesIBMDS0321ENSkillsNetwork26802033-2022-01-01\" target=\"_blank\">\n    <img src=\"https://cf-courses-data.s3.us.cloud-object-storage.appdomain.cloud/assets/logos/SN_web_lightmode.png\" width=\"200\" alt=\"Skills Network Logo\">\n    </a>\n</p>\n",
      "metadata": {}
    },
    {
      "cell_type": "markdown",
      "source": "# **Space X  Falcon 9 First Stage Landing Prediction**\n",
      "metadata": {}
    },
    {
      "cell_type": "markdown",
      "source": "## Hands on Lab: Complete the Machine Learning Prediction lab\n",
      "metadata": {}
    },
    {
      "cell_type": "markdown",
      "source": "Estimated time needed: **60** minutes\n",
      "metadata": {}
    },
    {
      "cell_type": "markdown",
      "source": "Space X advertises Falcon 9 rocket launches on its website with a cost of 62 million dollars; other providers cost upward of 165 million dollars each, much of the savings is because Space X can reuse the first stage. Therefore if we can determine if the first stage will land, we can determine the cost of a launch. This information can be used if an alternate company wants to bid against space X for a rocket launch.   In this lab, you will create a machine learning pipeline  to predict if the first stage will land given the data from the preceding labs.\n",
      "metadata": {}
    },
    {
      "cell_type": "markdown",
      "source": "![](https://cf-courses-data.s3.us.cloud-object-storage.appdomain.cloud/IBMDeveloperSkillsNetwork-DS0701EN-SkillsNetwork/api/Images/landing_1.gif)\n",
      "metadata": {}
    },
    {
      "cell_type": "markdown",
      "source": "Several examples of an unsuccessful landing are shown here:\n",
      "metadata": {}
    },
    {
      "cell_type": "markdown",
      "source": "![](https://cf-courses-data.s3.us.cloud-object-storage.appdomain.cloud/IBMDeveloperSkillsNetwork-DS0701EN-SkillsNetwork/api/Images/crash.gif)\n",
      "metadata": {}
    },
    {
      "cell_type": "markdown",
      "source": "Most unsuccessful landings are planed. Space X; performs a controlled landing in the oceans.\n",
      "metadata": {}
    },
    {
      "cell_type": "markdown",
      "source": "## Objectives\n",
      "metadata": {}
    },
    {
      "cell_type": "markdown",
      "source": "Perform exploratory  Data Analysis and determine Training Labels\n\n*   create a column for the class\n*   Standardize the data\n*   Split into training data and test data\n\n\\-Find best Hyperparameter for SVM, Classification Trees and Logistic Regression\n\n*   Find the method performs best using test data\n",
      "metadata": {}
    },
    {
      "cell_type": "markdown",
      "source": "## Import Libraries and Define Auxiliary Functions\n",
      "metadata": {}
    },
    {
      "cell_type": "code",
      "source": "import piplite\nawait piplite.install(['numpy'])\nawait piplite.install(['pandas'])\nawait piplite.install(['seaborn'])",
      "metadata": {
        "trusted": true
      },
      "outputs": [],
      "execution_count": 55
    },
    {
      "cell_type": "markdown",
      "source": "We will import the following libraries for the lab\n",
      "metadata": {}
    },
    {
      "cell_type": "code",
      "source": "# Pandas is a software library written for the Python programming language for data manipulation and analysis.\nimport pandas as pd\n# NumPy is a library for the Python programming language, adding support for large, multi-dimensional arrays and matrices, along with a large collection of high-level mathematical functions to operate on these arrays\nimport numpy as np\n# Matplotlib is a plotting library for python and pyplot gives us a MatLab like plotting framework. We will use this in our plotter function to plot data.\nimport matplotlib.pyplot as plt\n#Seaborn is a Python data visualization library based on matplotlib. It provides a high-level interface for drawing attractive and informative statistical graphics\nimport seaborn as sns\n# Preprocessing allows us to standarsize our data\nfrom sklearn import preprocessing\n# Allows us to split our data into training and testing data\nfrom sklearn.model_selection import train_test_split\n# Allows us to test parameters of classification algorithms and find the best one\nfrom sklearn.model_selection import GridSearchCV\n# Logistic Regression classification algorithm\nfrom sklearn.linear_model import LogisticRegression\n# Support Vector Machine classification algorithm\nfrom sklearn.svm import SVC\n# Decision Tree classification algorithm\nfrom sklearn.tree import DecisionTreeClassifier\n# K Nearest Neighbors classification algorithm\nfrom sklearn.neighbors import KNeighborsClassifier",
      "metadata": {
        "trusted": true
      },
      "outputs": [],
      "execution_count": 56
    },
    {
      "cell_type": "markdown",
      "source": "This function is to plot the confusion matrix.\n",
      "metadata": {}
    },
    {
      "cell_type": "code",
      "source": "def plot_confusion_matrix(y,y_predict):\n    \"this function plots the confusion matrix\"\n    from sklearn.metrics import confusion_matrix\n\n    cm = confusion_matrix(y, y_predict)\n    ax= plt.subplot()\n    sns.heatmap(cm, annot=True, ax = ax); #annot=True to annotate cells\n    ax.set_xlabel('Predicted labels')\n    ax.set_ylabel('True labels')\n    ax.set_title('Confusion Matrix'); \n    ax.xaxis.set_ticklabels(['did not land', 'land']); ax.yaxis.set_ticklabels(['did not land', 'landed']) \n    plt.show() ",
      "metadata": {
        "trusted": true
      },
      "outputs": [],
      "execution_count": 57
    },
    {
      "cell_type": "markdown",
      "source": "## Load the dataframe\n",
      "metadata": {}
    },
    {
      "cell_type": "markdown",
      "source": "Load the data\n",
      "metadata": {}
    },
    {
      "cell_type": "code",
      "source": "from js import fetch\nimport io\n\nURL1 = \"https://cf-courses-data.s3.us.cloud-object-storage.appdomain.cloud/IBM-DS0321EN-SkillsNetwork/datasets/dataset_part_2.csv\"\nresp1 = await fetch(URL1)\ntext1 = io.BytesIO((await resp1.arrayBuffer()).to_py())\ndata = pd.read_csv(text1)",
      "metadata": {
        "trusted": true
      },
      "outputs": [],
      "execution_count": 58
    },
    {
      "cell_type": "code",
      "source": "data.head()",
      "metadata": {
        "trusted": true
      },
      "outputs": [
        {
          "execution_count": 59,
          "output_type": "execute_result",
          "data": {
            "text/plain": "   FlightNumber        Date BoosterVersion  PayloadMass Orbit    LaunchSite  \\\n0             1  2010-06-04       Falcon 9  6104.959412   LEO  CCAFS SLC 40   \n1             2  2012-05-22       Falcon 9   525.000000   LEO  CCAFS SLC 40   \n2             3  2013-03-01       Falcon 9   677.000000   ISS  CCAFS SLC 40   \n3             4  2013-09-29       Falcon 9   500.000000    PO   VAFB SLC 4E   \n4             5  2013-12-03       Falcon 9  3170.000000   GTO  CCAFS SLC 40   \n\n       Outcome  Flights  GridFins  Reused   Legs LandingPad  Block  \\\n0    None None        1     False   False  False        NaN    1.0   \n1    None None        1     False   False  False        NaN    1.0   \n2    None None        1     False   False  False        NaN    1.0   \n3  False Ocean        1     False   False  False        NaN    1.0   \n4    None None        1     False   False  False        NaN    1.0   \n\n   ReusedCount Serial   Longitude   Latitude  Class  \n0            0  B0003  -80.577366  28.561857      0  \n1            0  B0005  -80.577366  28.561857      0  \n2            0  B0007  -80.577366  28.561857      0  \n3            0  B1003 -120.610829  34.632093      0  \n4            0  B1004  -80.577366  28.561857      0  ",
            "text/html": "<div>\n<style scoped>\n    .dataframe tbody tr th:only-of-type {\n        vertical-align: middle;\n    }\n\n    .dataframe tbody tr th {\n        vertical-align: top;\n    }\n\n    .dataframe thead th {\n        text-align: right;\n    }\n</style>\n<table border=\"1\" class=\"dataframe\">\n  <thead>\n    <tr style=\"text-align: right;\">\n      <th></th>\n      <th>FlightNumber</th>\n      <th>Date</th>\n      <th>BoosterVersion</th>\n      <th>PayloadMass</th>\n      <th>Orbit</th>\n      <th>LaunchSite</th>\n      <th>Outcome</th>\n      <th>Flights</th>\n      <th>GridFins</th>\n      <th>Reused</th>\n      <th>Legs</th>\n      <th>LandingPad</th>\n      <th>Block</th>\n      <th>ReusedCount</th>\n      <th>Serial</th>\n      <th>Longitude</th>\n      <th>Latitude</th>\n      <th>Class</th>\n    </tr>\n  </thead>\n  <tbody>\n    <tr>\n      <th>0</th>\n      <td>1</td>\n      <td>2010-06-04</td>\n      <td>Falcon 9</td>\n      <td>6104.959412</td>\n      <td>LEO</td>\n      <td>CCAFS SLC 40</td>\n      <td>None None</td>\n      <td>1</td>\n      <td>False</td>\n      <td>False</td>\n      <td>False</td>\n      <td>NaN</td>\n      <td>1.0</td>\n      <td>0</td>\n      <td>B0003</td>\n      <td>-80.577366</td>\n      <td>28.561857</td>\n      <td>0</td>\n    </tr>\n    <tr>\n      <th>1</th>\n      <td>2</td>\n      <td>2012-05-22</td>\n      <td>Falcon 9</td>\n      <td>525.000000</td>\n      <td>LEO</td>\n      <td>CCAFS SLC 40</td>\n      <td>None None</td>\n      <td>1</td>\n      <td>False</td>\n      <td>False</td>\n      <td>False</td>\n      <td>NaN</td>\n      <td>1.0</td>\n      <td>0</td>\n      <td>B0005</td>\n      <td>-80.577366</td>\n      <td>28.561857</td>\n      <td>0</td>\n    </tr>\n    <tr>\n      <th>2</th>\n      <td>3</td>\n      <td>2013-03-01</td>\n      <td>Falcon 9</td>\n      <td>677.000000</td>\n      <td>ISS</td>\n      <td>CCAFS SLC 40</td>\n      <td>None None</td>\n      <td>1</td>\n      <td>False</td>\n      <td>False</td>\n      <td>False</td>\n      <td>NaN</td>\n      <td>1.0</td>\n      <td>0</td>\n      <td>B0007</td>\n      <td>-80.577366</td>\n      <td>28.561857</td>\n      <td>0</td>\n    </tr>\n    <tr>\n      <th>3</th>\n      <td>4</td>\n      <td>2013-09-29</td>\n      <td>Falcon 9</td>\n      <td>500.000000</td>\n      <td>PO</td>\n      <td>VAFB SLC 4E</td>\n      <td>False Ocean</td>\n      <td>1</td>\n      <td>False</td>\n      <td>False</td>\n      <td>False</td>\n      <td>NaN</td>\n      <td>1.0</td>\n      <td>0</td>\n      <td>B1003</td>\n      <td>-120.610829</td>\n      <td>34.632093</td>\n      <td>0</td>\n    </tr>\n    <tr>\n      <th>4</th>\n      <td>5</td>\n      <td>2013-12-03</td>\n      <td>Falcon 9</td>\n      <td>3170.000000</td>\n      <td>GTO</td>\n      <td>CCAFS SLC 40</td>\n      <td>None None</td>\n      <td>1</td>\n      <td>False</td>\n      <td>False</td>\n      <td>False</td>\n      <td>NaN</td>\n      <td>1.0</td>\n      <td>0</td>\n      <td>B1004</td>\n      <td>-80.577366</td>\n      <td>28.561857</td>\n      <td>0</td>\n    </tr>\n  </tbody>\n</table>\n</div>"
          },
          "metadata": {}
        }
      ],
      "execution_count": 59
    },
    {
      "cell_type": "code",
      "source": "URL2 = 'https://cf-courses-data.s3.us.cloud-object-storage.appdomain.cloud/IBM-DS0321EN-SkillsNetwork/datasets/dataset_part_3.csv'\nresp2 = await fetch(URL2)\ntext2 = io.BytesIO((await resp2.arrayBuffer()).to_py())\nX = pd.read_csv(text2)",
      "metadata": {
        "trusted": true
      },
      "outputs": [],
      "execution_count": 60
    },
    {
      "cell_type": "code",
      "source": "X.head(100)",
      "metadata": {
        "trusted": true
      },
      "outputs": [
        {
          "execution_count": 61,
          "output_type": "execute_result",
          "data": {
            "text/plain": "    FlightNumber   PayloadMass  Flights  Block  ReusedCount  Orbit_ES-L1  \\\n0            1.0   6104.959412      1.0    1.0          0.0          0.0   \n1            2.0    525.000000      1.0    1.0          0.0          0.0   \n2            3.0    677.000000      1.0    1.0          0.0          0.0   \n3            4.0    500.000000      1.0    1.0          0.0          0.0   \n4            5.0   3170.000000      1.0    1.0          0.0          0.0   \n..           ...           ...      ...    ...          ...          ...   \n85          86.0  15400.000000      2.0    5.0          2.0          0.0   \n86          87.0  15400.000000      3.0    5.0          2.0          0.0   \n87          88.0  15400.000000      6.0    5.0          5.0          0.0   \n88          89.0  15400.000000      3.0    5.0          2.0          0.0   \n89          90.0   3681.000000      1.0    5.0          0.0          0.0   \n\n    Orbit_GEO  Orbit_GTO  Orbit_HEO  Orbit_ISS  ...  Serial_B1058  \\\n0         0.0        0.0        0.0        0.0  ...           0.0   \n1         0.0        0.0        0.0        0.0  ...           0.0   \n2         0.0        0.0        0.0        1.0  ...           0.0   \n3         0.0        0.0        0.0        0.0  ...           0.0   \n4         0.0        1.0        0.0        0.0  ...           0.0   \n..        ...        ...        ...        ...  ...           ...   \n85        0.0        0.0        0.0        0.0  ...           0.0   \n86        0.0        0.0        0.0        0.0  ...           1.0   \n87        0.0        0.0        0.0        0.0  ...           0.0   \n88        0.0        0.0        0.0        0.0  ...           0.0   \n89        0.0        0.0        0.0        0.0  ...           0.0   \n\n    Serial_B1059  Serial_B1060  Serial_B1062  GridFins_False  GridFins_True  \\\n0            0.0           0.0           0.0             1.0            0.0   \n1            0.0           0.0           0.0             1.0            0.0   \n2            0.0           0.0           0.0             1.0            0.0   \n3            0.0           0.0           0.0             1.0            0.0   \n4            0.0           0.0           0.0             1.0            0.0   \n..           ...           ...           ...             ...            ...   \n85           0.0           1.0           0.0             0.0            1.0   \n86           0.0           0.0           0.0             0.0            1.0   \n87           0.0           0.0           0.0             0.0            1.0   \n88           0.0           1.0           0.0             0.0            1.0   \n89           0.0           0.0           1.0             0.0            1.0   \n\n    Reused_False  Reused_True  Legs_False  Legs_True  \n0            1.0          0.0         1.0        0.0  \n1            1.0          0.0         1.0        0.0  \n2            1.0          0.0         1.0        0.0  \n3            1.0          0.0         1.0        0.0  \n4            1.0          0.0         1.0        0.0  \n..           ...          ...         ...        ...  \n85           0.0          1.0         0.0        1.0  \n86           0.0          1.0         0.0        1.0  \n87           0.0          1.0         0.0        1.0  \n88           0.0          1.0         0.0        1.0  \n89           1.0          0.0         0.0        1.0  \n\n[90 rows x 83 columns]",
            "text/html": "<div>\n<style scoped>\n    .dataframe tbody tr th:only-of-type {\n        vertical-align: middle;\n    }\n\n    .dataframe tbody tr th {\n        vertical-align: top;\n    }\n\n    .dataframe thead th {\n        text-align: right;\n    }\n</style>\n<table border=\"1\" class=\"dataframe\">\n  <thead>\n    <tr style=\"text-align: right;\">\n      <th></th>\n      <th>FlightNumber</th>\n      <th>PayloadMass</th>\n      <th>Flights</th>\n      <th>Block</th>\n      <th>ReusedCount</th>\n      <th>Orbit_ES-L1</th>\n      <th>Orbit_GEO</th>\n      <th>Orbit_GTO</th>\n      <th>Orbit_HEO</th>\n      <th>Orbit_ISS</th>\n      <th>...</th>\n      <th>Serial_B1058</th>\n      <th>Serial_B1059</th>\n      <th>Serial_B1060</th>\n      <th>Serial_B1062</th>\n      <th>GridFins_False</th>\n      <th>GridFins_True</th>\n      <th>Reused_False</th>\n      <th>Reused_True</th>\n      <th>Legs_False</th>\n      <th>Legs_True</th>\n    </tr>\n  </thead>\n  <tbody>\n    <tr>\n      <th>0</th>\n      <td>1.0</td>\n      <td>6104.959412</td>\n      <td>1.0</td>\n      <td>1.0</td>\n      <td>0.0</td>\n      <td>0.0</td>\n      <td>0.0</td>\n      <td>0.0</td>\n      <td>0.0</td>\n      <td>0.0</td>\n      <td>...</td>\n      <td>0.0</td>\n      <td>0.0</td>\n      <td>0.0</td>\n      <td>0.0</td>\n      <td>1.0</td>\n      <td>0.0</td>\n      <td>1.0</td>\n      <td>0.0</td>\n      <td>1.0</td>\n      <td>0.0</td>\n    </tr>\n    <tr>\n      <th>1</th>\n      <td>2.0</td>\n      <td>525.000000</td>\n      <td>1.0</td>\n      <td>1.0</td>\n      <td>0.0</td>\n      <td>0.0</td>\n      <td>0.0</td>\n      <td>0.0</td>\n      <td>0.0</td>\n      <td>0.0</td>\n      <td>...</td>\n      <td>0.0</td>\n      <td>0.0</td>\n      <td>0.0</td>\n      <td>0.0</td>\n      <td>1.0</td>\n      <td>0.0</td>\n      <td>1.0</td>\n      <td>0.0</td>\n      <td>1.0</td>\n      <td>0.0</td>\n    </tr>\n    <tr>\n      <th>2</th>\n      <td>3.0</td>\n      <td>677.000000</td>\n      <td>1.0</td>\n      <td>1.0</td>\n      <td>0.0</td>\n      <td>0.0</td>\n      <td>0.0</td>\n      <td>0.0</td>\n      <td>0.0</td>\n      <td>1.0</td>\n      <td>...</td>\n      <td>0.0</td>\n      <td>0.0</td>\n      <td>0.0</td>\n      <td>0.0</td>\n      <td>1.0</td>\n      <td>0.0</td>\n      <td>1.0</td>\n      <td>0.0</td>\n      <td>1.0</td>\n      <td>0.0</td>\n    </tr>\n    <tr>\n      <th>3</th>\n      <td>4.0</td>\n      <td>500.000000</td>\n      <td>1.0</td>\n      <td>1.0</td>\n      <td>0.0</td>\n      <td>0.0</td>\n      <td>0.0</td>\n      <td>0.0</td>\n      <td>0.0</td>\n      <td>0.0</td>\n      <td>...</td>\n      <td>0.0</td>\n      <td>0.0</td>\n      <td>0.0</td>\n      <td>0.0</td>\n      <td>1.0</td>\n      <td>0.0</td>\n      <td>1.0</td>\n      <td>0.0</td>\n      <td>1.0</td>\n      <td>0.0</td>\n    </tr>\n    <tr>\n      <th>4</th>\n      <td>5.0</td>\n      <td>3170.000000</td>\n      <td>1.0</td>\n      <td>1.0</td>\n      <td>0.0</td>\n      <td>0.0</td>\n      <td>0.0</td>\n      <td>1.0</td>\n      <td>0.0</td>\n      <td>0.0</td>\n      <td>...</td>\n      <td>0.0</td>\n      <td>0.0</td>\n      <td>0.0</td>\n      <td>0.0</td>\n      <td>1.0</td>\n      <td>0.0</td>\n      <td>1.0</td>\n      <td>0.0</td>\n      <td>1.0</td>\n      <td>0.0</td>\n    </tr>\n    <tr>\n      <th>...</th>\n      <td>...</td>\n      <td>...</td>\n      <td>...</td>\n      <td>...</td>\n      <td>...</td>\n      <td>...</td>\n      <td>...</td>\n      <td>...</td>\n      <td>...</td>\n      <td>...</td>\n      <td>...</td>\n      <td>...</td>\n      <td>...</td>\n      <td>...</td>\n      <td>...</td>\n      <td>...</td>\n      <td>...</td>\n      <td>...</td>\n      <td>...</td>\n      <td>...</td>\n      <td>...</td>\n    </tr>\n    <tr>\n      <th>85</th>\n      <td>86.0</td>\n      <td>15400.000000</td>\n      <td>2.0</td>\n      <td>5.0</td>\n      <td>2.0</td>\n      <td>0.0</td>\n      <td>0.0</td>\n      <td>0.0</td>\n      <td>0.0</td>\n      <td>0.0</td>\n      <td>...</td>\n      <td>0.0</td>\n      <td>0.0</td>\n      <td>1.0</td>\n      <td>0.0</td>\n      <td>0.0</td>\n      <td>1.0</td>\n      <td>0.0</td>\n      <td>1.0</td>\n      <td>0.0</td>\n      <td>1.0</td>\n    </tr>\n    <tr>\n      <th>86</th>\n      <td>87.0</td>\n      <td>15400.000000</td>\n      <td>3.0</td>\n      <td>5.0</td>\n      <td>2.0</td>\n      <td>0.0</td>\n      <td>0.0</td>\n      <td>0.0</td>\n      <td>0.0</td>\n      <td>0.0</td>\n      <td>...</td>\n      <td>1.0</td>\n      <td>0.0</td>\n      <td>0.0</td>\n      <td>0.0</td>\n      <td>0.0</td>\n      <td>1.0</td>\n      <td>0.0</td>\n      <td>1.0</td>\n      <td>0.0</td>\n      <td>1.0</td>\n    </tr>\n    <tr>\n      <th>87</th>\n      <td>88.0</td>\n      <td>15400.000000</td>\n      <td>6.0</td>\n      <td>5.0</td>\n      <td>5.0</td>\n      <td>0.0</td>\n      <td>0.0</td>\n      <td>0.0</td>\n      <td>0.0</td>\n      <td>0.0</td>\n      <td>...</td>\n      <td>0.0</td>\n      <td>0.0</td>\n      <td>0.0</td>\n      <td>0.0</td>\n      <td>0.0</td>\n      <td>1.0</td>\n      <td>0.0</td>\n      <td>1.0</td>\n      <td>0.0</td>\n      <td>1.0</td>\n    </tr>\n    <tr>\n      <th>88</th>\n      <td>89.0</td>\n      <td>15400.000000</td>\n      <td>3.0</td>\n      <td>5.0</td>\n      <td>2.0</td>\n      <td>0.0</td>\n      <td>0.0</td>\n      <td>0.0</td>\n      <td>0.0</td>\n      <td>0.0</td>\n      <td>...</td>\n      <td>0.0</td>\n      <td>0.0</td>\n      <td>1.0</td>\n      <td>0.0</td>\n      <td>0.0</td>\n      <td>1.0</td>\n      <td>0.0</td>\n      <td>1.0</td>\n      <td>0.0</td>\n      <td>1.0</td>\n    </tr>\n    <tr>\n      <th>89</th>\n      <td>90.0</td>\n      <td>3681.000000</td>\n      <td>1.0</td>\n      <td>5.0</td>\n      <td>0.0</td>\n      <td>0.0</td>\n      <td>0.0</td>\n      <td>0.0</td>\n      <td>0.0</td>\n      <td>0.0</td>\n      <td>...</td>\n      <td>0.0</td>\n      <td>0.0</td>\n      <td>0.0</td>\n      <td>1.0</td>\n      <td>0.0</td>\n      <td>1.0</td>\n      <td>1.0</td>\n      <td>0.0</td>\n      <td>0.0</td>\n      <td>1.0</td>\n    </tr>\n  </tbody>\n</table>\n<p>90 rows × 83 columns</p>\n</div>"
          },
          "metadata": {}
        }
      ],
      "execution_count": 61
    },
    {
      "cell_type": "markdown",
      "source": "## TASK  1\n",
      "metadata": {}
    },
    {
      "cell_type": "markdown",
      "source": "Create a NumPy array from the column <code>Class</code> in <code>data</code>, by applying the method <code>to_numpy()</code>  then\nassign it  to the variable <code>Y</code>,make sure the output is a  Pandas series (only one bracket df\\['name of  column']).\n",
      "metadata": {}
    },
    {
      "cell_type": "code",
      "source": "# Extract the 'Class' column as a Pandas Series and convert it to a NumPy array\nY = data['Class'].to_numpy()\n\n# Verify the type of Y\nprint(\"Type of Y:\", type(Y))  # Should output <class 'numpy.ndarray'>\n\n# Verify the shape of Y\nprint(\"Shape of Y:\", Y.shape)  # Should output (number_of_samples,)",
      "metadata": {
        "trusted": true
      },
      "outputs": [
        {
          "name": "stdout",
          "text": "Type of Y: <class 'numpy.ndarray'>\nShape of Y: (90,)\n",
          "output_type": "stream"
        }
      ],
      "execution_count": 62
    },
    {
      "cell_type": "markdown",
      "source": "## TASK  2\n",
      "metadata": {}
    },
    {
      "cell_type": "markdown",
      "source": "Standardize the data in <code>X</code> then reassign it to the variable  <code>X</code> using the transform provided below.\n",
      "metadata": {}
    },
    {
      "cell_type": "code",
      "source": "# students get this \ntransform = preprocessing.StandardScaler()",
      "metadata": {
        "trusted": true
      },
      "outputs": [],
      "execution_count": 63
    },
    {
      "cell_type": "code",
      "source": "# Initialize the StandardScaler (provided)\ntransform = preprocessing.StandardScaler()\n\n# Fit the scaler on X and transform the data\nX = transform.fit_transform(X)\n\n# Verify the standardization (mean ~0, std ~1)\nprint(\"Mean after standardization:\", X.mean(axis=0))  # Should be close to 0\nprint(\"Std after standardization:\", X.std(axis=0))   # Should be close to 1",
      "metadata": {
        "trusted": true
      },
      "outputs": [
        {
          "name": "stdout",
          "text": "Mean after standardization: [ 1.48029737e-17 -1.41861831e-16 -7.27812872e-17 -1.97372982e-17\n  5.92118946e-17 -4.81096644e-17 -2.86807615e-17 -7.40148683e-18\n -4.81096644e-17  4.68760833e-17  6.16790569e-18  0.00000000e+00\n -6.90805438e-17 -2.86807615e-17 -5.24271984e-17  1.78869265e-17\n -8.14163551e-17  2.71387850e-17  5.30439890e-17  5.30439890e-17\n -1.41861831e-17 -1.48029737e-17  6.16790569e-18  3.08395285e-18\n -4.81096644e-17 -4.81096644e-17 -4.81096644e-17 -4.81096644e-17\n -4.81096644e-17 -4.81096644e-17 -4.81096644e-17 -4.81096644e-17\n -4.81096644e-17 -4.81096644e-17 -4.81096644e-17 -4.81096644e-17\n -4.81096644e-17 -4.81096644e-17 -4.81096644e-17 -4.81096644e-17\n -4.81096644e-17 -4.81096644e-17 -4.81096644e-17 -3.70074342e-18\n -4.81096644e-17 -4.81096644e-17 -4.81096644e-17 -4.81096644e-17\n -4.81096644e-17  5.55111512e-18 -4.81096644e-17  5.55111512e-18\n  5.55111512e-18 -4.81096644e-17  5.55111512e-18  5.55111512e-18\n -4.81096644e-17 -4.81096644e-17  5.55111512e-18  5.55111512e-18\n -7.33980777e-17 -4.81096644e-17 -4.81096644e-17 -4.81096644e-17\n  5.55111512e-18  3.45402719e-17  4.93432455e-18  5.48943607e-17\n  5.67447324e-17 -4.81096644e-17 -6.22958475e-17 -4.81096644e-17\n  3.51570624e-17 -1.97372982e-17  3.51570624e-17 -2.22044605e-17\n -1.97372982e-17  7.64820306e-17 -7.64820306e-17  3.70074342e-18\n -3.70074342e-18 -2.22044605e-17  2.22044605e-17]\nStd after standardization: [1. 1. 1. 1. 1. 1. 1. 1. 1. 1. 1. 1. 1. 1. 1. 1. 1. 1. 1. 1. 1. 1. 1. 1.\n 1. 1. 1. 1. 1. 1. 1. 1. 1. 1. 1. 1. 1. 1. 1. 1. 1. 1. 1. 1. 1. 1. 1. 1.\n 1. 1. 1. 1. 1. 1. 1. 1. 1. 1. 1. 1. 1. 1. 1. 1. 1. 1. 1. 1. 1. 1. 1. 1.\n 1. 1. 1. 1. 1. 1. 1. 1. 1. 1. 1.]\n",
          "output_type": "stream"
        }
      ],
      "execution_count": 64
    },
    {
      "cell_type": "markdown",
      "source": "We split the data into training and testing data using the  function  <code>train_test_split</code>.   The training data is divided into validation data, a second set used for training  data; then the models are trained and hyperparameters are selected using the function <code>GridSearchCV</code>.\n",
      "metadata": {}
    },
    {
      "cell_type": "markdown",
      "source": "#Step 1: Split Data into Training and Test Sets",
      "metadata": {}
    },
    {
      "cell_type": "code",
      "source": "from sklearn.model_selection import train_test_split\n\n# Split into training (80%) and test (20%) sets\nX_train, X_test, Y_train, Y_test = train_test_split(\n    X, Y, \n    test_size=0.2, \n    random_state=42  # Ensures reproducibility\n)\n\nprint(\"Training set shape:\", X_train.shape)\nprint(\"Test set shape:\", X_test.shape)",
      "metadata": {
        "trusted": true
      },
      "outputs": [
        {
          "name": "stdout",
          "text": "Training set shape: (72, 83)\nTest set shape: (18, 83)\n",
          "output_type": "stream"
        }
      ],
      "execution_count": 65
    },
    {
      "cell_type": "markdown",
      "source": "#Step 2: Further Split Training Data into Training & Validation Sets\nWe use train_test_split again to create a validation set from the training data.\nThis helps in tuning hyperparameters without touching the test set.",
      "metadata": {}
    },
    {
      "cell_type": "code",
      "source": "# Split training data into training (80%) and validation (20%) sets\nX_train_sub, X_val, Y_train_sub, Y_val = train_test_split(\n    X_train, Y_train, \n    test_size=0.2, \n    random_state=42\n)\n\nprint(\"Sub-training set shape:\", X_train_sub.shape)\nprint(\"Validation set shape:\", X_val.shape)",
      "metadata": {
        "trusted": true
      },
      "outputs": [
        {
          "name": "stdout",
          "text": "Sub-training set shape: (57, 83)\nValidation set shape: (15, 83)\n",
          "output_type": "stream"
        }
      ],
      "execution_count": 66
    },
    {
      "cell_type": "markdown",
      "source": "#Step 3: Hyperparameter Tuning with GridSearchCV\nWe will optimize hyperparameters for three models:\n\nSupport Vector Machine (SVM)\n\nDecision Tree\n\nLogistic Regression\n\n3.1 SVM Hyperparameter Tuning",
      "metadata": {}
    },
    {
      "cell_type": "code",
      "source": "from sklearn.svm import SVC\nfrom sklearn.model_selection import GridSearchCV\n\n# Define the parameter grid\nparam_grid_svm = {\n    'C': [0.1, 1, 10, 100],           # Regularization strength\n    'kernel': ['linear', 'rbf'],       # Kernel type\n    'gamma': [0.001, 0.01, 0.1, 1]    # Kernel coefficient (for 'rbf')\n}\n\n# Initialize SVM\nsvm = SVC()\n\n# GridSearchCV with 5-fold cross-validation\ngrid_svm = GridSearchCV(\n    svm, \n    param_grid_svm, \n    cv=5,           # 5-fold cross-validation\n    scoring='accuracy'\n)\n\n# Fit on training data\ngrid_svm.fit(X_train_sub, Y_train_sub)\n\n# Best parameters and score\nprint(\"Best SVM Parameters:\", grid_svm.best_params_)\nprint(\"Best SVM Score (Validation):\", grid_svm.best_score_)",
      "metadata": {
        "trusted": true
      },
      "outputs": [
        {
          "name": "stdout",
          "text": "Best SVM Parameters: {'C': 10, 'gamma': 0.001, 'kernel': 'rbf'}\nBest SVM Score (Validation): 0.8954545454545455\n",
          "output_type": "stream"
        }
      ],
      "execution_count": 67
    },
    {
      "cell_type": "markdown",
      "source": "#3.2 Decision Tree Hyperparameter Tuning",
      "metadata": {}
    },
    {
      "cell_type": "code",
      "source": "from sklearn.tree import DecisionTreeClassifier\n\n# Define the parameter grid\nparam_grid_tree = {\n    'max_depth': [3, 5, 10, None],      # Maximum tree depth\n    'min_samples_split': [2, 5, 10],    # Minimum samples to split a node\n    'min_samples_leaf': [1, 2, 4]       # Minimum samples in a leaf\n}\n\n# Initialize Decision Tree\ntree = DecisionTreeClassifier()\n\n# GridSearchCV with 5-fold cross-validation\ngrid_tree = GridSearchCV(\n    tree, \n    param_grid_tree, \n    cv=5,\n    scoring='accuracy'\n)\n\n# Fit on training data\ngrid_tree.fit(X_train_sub, Y_train_sub)\n\n# Best parameters and score\nprint(\"Best Decision Tree Parameters:\", grid_tree.best_params_)\nprint(\"Best Decision Tree Score (Validation):\", grid_tree.best_score_)",
      "metadata": {
        "trusted": true
      },
      "outputs": [
        {
          "name": "stdout",
          "text": "Best Decision Tree Parameters: {'max_depth': 3, 'min_samples_leaf': 4, 'min_samples_split': 2}\nBest Decision Tree Score (Validation): 0.8954545454545455\n",
          "output_type": "stream"
        }
      ],
      "execution_count": 68
    },
    {
      "cell_type": "markdown",
      "source": "#3.3 Logistic Regression Hyperparameter Tuning",
      "metadata": {}
    },
    {
      "cell_type": "code",
      "source": "from sklearn.tree import DecisionTreeClassifier\n\n# Define the parameter grid\nparam_grid_tree = {\n    'max_depth': [3, 5, 10, None],      # Maximum tree depth\n    'min_samples_split': [2, 5, 10],    # Minimum samples to split a node\n    'min_samples_leaf': [1, 2, 4]       # Minimum samples in a leaf\n}\n\n# Initialize Decision Tree\ntree = DecisionTreeClassifier()\n\n# GridSearchCV with 5-fold cross-validation\ngrid_tree = GridSearchCV(\n    tree, \n    param_grid_tree, \n    cv=5,\n    scoring='accuracy'\n)\n\n# Fit on training data\ngrid_tree.fit(X_train_sub, Y_train_sub)\n\n# Best parameters and score\nprint(\"Best Decision Tree Parameters:\", grid_tree.best_params_)\nprint(\"Best Decision Tree Score (Validation):\", grid_tree.best_score_)",
      "metadata": {
        "trusted": true
      },
      "outputs": [
        {
          "name": "stdout",
          "text": "Best Decision Tree Parameters: {'max_depth': 3, 'min_samples_leaf': 1, 'min_samples_split': 10}\nBest Decision Tree Score (Validation): 0.8954545454545455\n",
          "output_type": "stream"
        }
      ],
      "execution_count": 69
    },
    {
      "cell_type": "markdown",
      "source": "#Step 4: Evaluate the Best Models on the Test Set",
      "metadata": {}
    },
    {
      "cell_type": "code",
      "source": "from sklearn.linear_model import LogisticRegression\n\n# Define the parameter grid\nparam_grid_lr = {\n    'C': [0.01, 0.1, 1, 10, 100],      # Inverse regularization strength\n    'penalty': ['l1', 'l2'],            # Regularization type\n    'solver': ['liblinear']              # Solver for optimization\n}\n\n# Initialize Logistic Regression\nlr = LogisticRegression()\n\n# GridSearchCV with 5-fold cross-validation\ngrid_lr = GridSearchCV(\n    lr, \n    param_grid_lr, \n    cv=5,\n    scoring='accuracy'\n)\n\n# Fit on training data\ngrid_lr.fit(X_train_sub, Y_train_sub)\n\n# Best parameters and score\nprint(\"Best Logistic Regression Parameters:\", grid_lr.best_params_)\nprint(\"Best Logistic Regression Score (Validation):\", grid_lr.best_score_)",
      "metadata": {
        "trusted": true
      },
      "outputs": [
        {
          "name": "stdout",
          "text": "Best Logistic Regression Parameters: {'C': 0.1, 'penalty': 'l2', 'solver': 'liblinear'}\nBest Logistic Regression Score (Validation): 0.8787878787878787\n",
          "output_type": "stream"
        }
      ],
      "execution_count": 70
    },
    {
      "cell_type": "markdown",
      "source": "#Now, we test the best models (from GridSearchCV) on the unseen test data.",
      "metadata": {}
    },
    {
      "cell_type": "code",
      "source": "# Get the best models\nbest_svm = grid_svm.best_estimator_\nbest_tree = grid_tree.best_estimator_\nbest_lr = grid_lr.best_estimator_\n\n# Evaluate on test set\nprint(\"SVM Test Accuracy:\", best_svm.score(X_test, Y_test))\nprint(\"Decision Tree Test Accuracy:\", best_tree.score(X_test, Y_test))\nprint(\"Logistic Regression Test Accuracy:\", best_lr.score(X_test, Y_test))",
      "metadata": {
        "trusted": true
      },
      "outputs": [
        {
          "name": "stdout",
          "text": "SVM Test Accuracy: 0.8888888888888888\nDecision Tree Test Accuracy: 0.8888888888888888\nLogistic Regression Test Accuracy: 0.8333333333333334\n",
          "output_type": "stream"
        }
      ],
      "execution_count": 71
    },
    {
      "cell_type": "markdown",
      "source": "## TASK  3\n",
      "metadata": {}
    },
    {
      "cell_type": "markdown",
      "source": "Use the function train_test_split to split the data X and Y into training and test data. Set the parameter test_size to  0.2 and random_state to 2. The training data and test data should be assigned to the following labels.\n",
      "metadata": {}
    },
    {
      "cell_type": "markdown",
      "source": "<code>X_train, X_test, Y_train, Y_test</code>\n",
      "metadata": {}
    },
    {
      "cell_type": "code",
      "source": "from sklearn.model_selection import train_test_split\n\n# Split the data into training (80%) and test (20%) sets\nX_train, X_test, Y_train, Y_test = train_test_split(\n    X, Y, \n    test_size=0.2, \n    random_state=2\n)\n\n# Verify the shapes of the splits\nprint(\"Training data shape (X_train):\", X_train.shape)\nprint(\"Test data shape (X_test):\", X_test.shape)\nprint(\"Training labels shape (Y_train):\", Y_train.shape)\nprint(\"Test labels shape (Y_test):\", Y_test.shape)",
      "metadata": {
        "trusted": true
      },
      "outputs": [
        {
          "name": "stdout",
          "text": "Training data shape (X_train): (72, 83)\nTest data shape (X_test): (18, 83)\nTraining labels shape (Y_train): (72,)\nTest labels shape (Y_test): (18,)\n",
          "output_type": "stream"
        }
      ],
      "execution_count": 72
    },
    {
      "cell_type": "markdown",
      "source": "we can see we only have 18 test samples.\n",
      "metadata": {}
    },
    {
      "cell_type": "code",
      "source": "Y_test.shape",
      "metadata": {
        "trusted": true
      },
      "outputs": [
        {
          "execution_count": 73,
          "output_type": "execute_result",
          "data": {
            "text/plain": "(18,)"
          },
          "metadata": {}
        }
      ],
      "execution_count": 73
    },
    {
      "cell_type": "markdown",
      "source": "# Explanation\ntrain_test_split(X, Y, test_size=0.2, random_state=2)\n\nX: Standardized feature matrix (from Task 2).\n\nY: Target labels (NumPy array from Task 1).\n\ntest_size=0.2: 20% of data reserved for testing.\n\nrandom_state=2: Ensures the same split is generated every time (reproducibility).\n\nOutput Variables\n\nX_train: Features for training (80% of original data).\n\nX_test: Features for testing (20% of original data).\n\nY_train: Corresponding labels for training.\n\nY_test: Corresponding labels for testing.\n\nVerification\n\nThe shapes confirm the correct split (e.g., if original data had 90 samples, training will have 72, and test will have 18).",
      "metadata": {}
    },
    {
      "cell_type": "markdown",
      "source": "## TASK  4\n",
      "metadata": {}
    },
    {
      "cell_type": "markdown",
      "source": "Create a logistic regression object  then create a  GridSearchCV object  <code>logreg_cv</code> with cv = 10.  Fit the object to find the best parameters from the dictionary <code>parameters</code>.\n",
      "metadata": {}
    },
    {
      "cell_type": "code",
      "source": "parameters ={'C':[0.01,0.1,1],\n             'penalty':['l2'],\n             'solver':['lbfgs']}",
      "metadata": {
        "trusted": true
      },
      "outputs": [],
      "execution_count": 74
    },
    {
      "cell_type": "code",
      "source": "from sklearn.linear_model import LogisticRegression\nfrom sklearn.model_selection import GridSearchCV\n\n# Define the parameter grid\nparameters = {\n    'C': [0.01, 0.1, 1],          # Inverse of regularization strength\n    'penalty': ['l2'],             # Regularization type (L2 norm)\n    'solver': ['lbfgs']            # Optimization algorithm\n}\n\n# 1. Create a Logistic Regression object\nlogreg = LogisticRegression()\n\n# 2. Create GridSearchCV object with cv=10\nlogreg_cv = GridSearchCV(\n    logreg,                        # Model to tune\n    parameters,                    # Parameter grid\n    cv=10,                         # 10-fold cross-validation\n    scoring='accuracy'             # Evaluation metric\n)\n\n# 3. Fit GridSearchCV to training data\nlogreg_cv.fit(X_train, Y_train)\n\n# Print the best parameters and best score\nprint(\"Best Parameters:\", logreg_cv.best_params_)\nprint(\"Best Cross-Validation Accuracy:\", logreg_cv.best_score_)",
      "metadata": {
        "trusted": true
      },
      "outputs": [
        {
          "name": "stdout",
          "text": "Best Parameters: {'C': 0.01, 'penalty': 'l2', 'solver': 'lbfgs'}\nBest Cross-Validation Accuracy: 0.8464285714285713\n",
          "output_type": "stream"
        }
      ],
      "execution_count": 75
    },
    {
      "cell_type": "markdown",
      "source": "# Explanation\nLogisticRegression()\n\nInitializes a logistic regression model (default settings).\n\nGridSearchCV Setup\n\nestimator=logreg: The model to optimize.\n\nparam_grid=parameters: The hyperparameters to test.\n\ncv=10: 10-fold cross-validation (splits data into 10 parts, trains on 9, validates on 1, repeats 10 times).\n\nscoring='accuracy': Evaluates performance using classification accuracy.\n\nlogreg_cv.fit(X_train, Y_train)\n\nTrains the model on X_train and Y_train while testing all combinations of parameters.\n\nAutomatically selects the best hyperparameters based on cross-validation performance.\n\nOutput\n\nlogreg_cv.best_params_: Returns the best combination of C, penalty, and solver.\n\nlogreg_cv.best_score_: The highest mean accuracy achieved during cross-validation.",
      "metadata": {}
    },
    {
      "cell_type": "code",
      "source": "parameters ={\"C\":[0.01,0.1,1],'penalty':['l2'], 'solver':['lbfgs']}# l1 lasso l2 ridge\nlr=LogisticRegression()\n",
      "metadata": {
        "trusted": true
      },
      "outputs": [],
      "execution_count": 76
    },
    {
      "cell_type": "code",
      "source": "parameters = {\n    'C': [0.01, 0.1, 1],       # Inverse regularization strength\n    'penalty': ['l2'],           # L2 regularization (Ridge)\n    'solver': ['lbfgs']          # Solver for optimization\n}",
      "metadata": {
        "trusted": true
      },
      "outputs": [],
      "execution_count": 77
    },
    {
      "cell_type": "code",
      "source": "from sklearn.linear_model import LogisticRegression\nfrom sklearn.model_selection import GridSearchCV\n\n# 1. Initialize Logistic Regression\nlr = LogisticRegression()\n\n# 2. Define hyperparameter grid\nparameters = {\n    'C': [0.01, 0.1, 1],          # Test different regularization strengths\n    'penalty': ['l2'],             # Use L2 penalty (Ridge regression)\n    'solver': ['lbfgs']            # Recommended solver for L2 penalty\n}\n\n# 3. Set up GridSearchCV with 10-fold cross-validation\nlogreg_cv = GridSearchCV(\n    estimator=lr,                  # Model to tune\n    param_grid=parameters,         # Hyperparameters to test\n    cv=10,                         # 10-fold cross-validation\n    scoring='accuracy'             # Metric to optimize\n)\n\n# 4. Fit GridSearchCV to training data\nlogreg_cv.fit(X_train, Y_train)\n\n# 5. Output the best parameters and accuracy\nprint(\"Best Hyperparameters:\", logreg_cv.best_params_)\nprint(\"Best Cross-Validation Accuracy:\", logreg_cv.best_score_)",
      "metadata": {
        "trusted": true
      },
      "outputs": [
        {
          "name": "stdout",
          "text": "Best Hyperparameters: {'C': 0.01, 'penalty': 'l2', 'solver': 'lbfgs'}\nBest Cross-Validation Accuracy: 0.8464285714285713\n",
          "output_type": "stream"
        }
      ],
      "execution_count": 78
    },
    {
      "cell_type": "markdown",
      "source": "# Explanation of Key Steps\nInitialize LogisticRegression\n\nlr = LogisticRegression() creates a baseline logistic regression model.\n\nDefine Hyperparameter Grid (parameters)\n\nC: Controls regularization strength (smaller C = stronger regularization).\n\npenalty='l2': Applies Ridge regularization (penalizes large coefficients).\n\nsolver='lbfgs': A suitable optimizer for L2-regularized logistic regression.\n\nConfigure GridSearchCV\n\ncv=10: Splits data into 10 folds (9 for training, 1 for validation, repeated 10 times).\n\nscoring='accuracy': Evaluates performance using classification accuracy.\n\nFit to Training Data\n\nlogreg_cv.fit(X_train, Y_train) trains the model and evaluates all combinations of parameters.\n\nOutput Results\n\nlogreg_cv.best_params_ returns the optimal C value.\n\nlogreg_cv.best_score_ gives the mean cross-validation accuracy.",
      "metadata": {}
    },
    {
      "cell_type": "markdown",
      "source": "We output the <code>GridSearchCV</code> object for logistic regression. We display the best parameters using the data attribute <code>best_params\\_</code> and the accuracy on the validation data using the data attribute <code>best_score\\_</code>.\n",
      "metadata": {}
    },
    {
      "cell_type": "code",
      "source": "print(\"tuned hpyerparameters :(best parameters) \",logreg_cv.best_params_)\nprint(\"accuracy :\",logreg_cv.best_score_)",
      "metadata": {
        "trusted": true
      },
      "outputs": [
        {
          "name": "stdout",
          "text": "tuned hpyerparameters :(best parameters)  {'C': 0.01, 'penalty': 'l2', 'solver': 'lbfgs'}\naccuracy : 0.8464285714285713\n",
          "output_type": "stream"
        }
      ],
      "execution_count": 79
    },
    {
      "cell_type": "markdown",
      "source": "## TASK  5\n",
      "metadata": {}
    },
    {
      "cell_type": "markdown",
      "source": "Calculate the accuracy on the test data using the method <code>score</code>:\n",
      "metadata": {}
    },
    {
      "cell_type": "code",
      "source": "# Calculate accuracy on test data\ntest_accuracy = logreg_cv.score(X_test, Y_test)\n\n# Print the result\nprint(\"Test Accuracy:\", test_accuracy)",
      "metadata": {
        "trusted": true
      },
      "outputs": [
        {
          "name": "stdout",
          "text": "Test Accuracy: 0.8333333333333334\n",
          "output_type": "stream"
        }
      ],
      "execution_count": 80
    },
    {
      "cell_type": "markdown",
      "source": "Lets look at the confusion matrix:\n",
      "metadata": {}
    },
    {
      "cell_type": "code",
      "source": "yhat=logreg_cv.predict(X_test)\nplot_confusion_matrix(Y_test,yhat)",
      "metadata": {
        "trusted": true
      },
      "outputs": [
        {
          "output_type": "display_data",
          "data": {
            "text/plain": "<Figure size 640x480 with 2 Axes>",
            "image/png": "[encoded data removed]"
          },
          "metadata": {}
        }
      ],
      "execution_count": 81
    },
    {
      "cell_type": "markdown",
      "source": "Examining the confusion matrix, we see that logistic regression can distinguish between the different classes.  We see that the problem is false positives.\n\nOverview:\n\nTrue Postive - 12 (True label is landed, Predicted label is also landed)\n\nFalse Postive - 3 (True label is not landed, Predicted label is landed)\n",
      "metadata": {}
    },
    {
      "cell_type": "markdown",
      "source": "Analysis of the Confusion Matrix for Logistic Regression\nObserved Results:\nPredicted: Landed\tPredicted: Did Not Land\nActual: Landed\t12 (True Positives)\t-\nActual: Did Not Land\t3 (False Positives)\t-\n(Note: Your output may show the full matrix, but we're focusing on these critical values.)\n\nKey Insights\nFalse Positives (FP = 3)\n\nThe model incorrectly predicted 3 landings when the first stage actually did not land.\n\nThis could lead to cost underestimation if used for bidding against SpaceX (since reusable launches are cheaper).\n\nTrue Positives (TP = 12)\n\nThe model correctly predicted 12 successful landings.\n\nHigh TP rate suggests good sensitivity to actual successes.\n\n",
      "metadata": {}
    },
    {
      "cell_type": "markdown",
      "source": "## TASK  6\n",
      "metadata": {}
    },
    {
      "cell_type": "markdown",
      "source": "Create a support vector machine object then  create a  <code>GridSearchCV</code> object  <code>svm_cv</code> with cv = 10.  Fit the object to find the best parameters from the dictionary <code>parameters</code>.\n",
      "metadata": {}
    },
    {
      "cell_type": "code",
      "source": "parameters = {'kernel':('linear', 'rbf','poly','rbf', 'sigmoid'),\n              'C': np.logspace(-3, 3, 5),\n              'gamma':np.logspace(-3, 3, 5)}\nsvm = SVC()",
      "metadata": {
        "trusted": true
      },
      "outputs": [],
      "execution_count": 82
    },
    {
      "cell_type": "code",
      "source": "parameters = {\n    'kernel': ['linear', 'rbf', 'poly', 'sigmoid'],\n    'C': np.logspace(-3, 3, 5),  # [0.001, 0.1, 1, 10, 1000]\n    'gamma': np.logspace(-3, 3, 5)  # [0.001, 0.1, 1, 10, 1000]\n}",
      "metadata": {
        "trusted": true
      },
      "outputs": [],
      "execution_count": 83
    },
    {
      "cell_type": "code",
      "source": "from sklearn.svm import SVC\nfrom sklearn.model_selection import GridSearchCV\nimport numpy as np\n\n# 1. Initialize SVM\nsvm = SVC()\n\n# 2. Define hyperparameter grid\nparameters = {\n    'kernel': ['linear', 'rbf', 'poly', 'sigmoid'],\n    'C': np.logspace(-3, 3, 5),      # [0.001, 0.1, 1, 10, 1000]\n    'gamma': np.logspace(-3, 3, 5)    # [0.001, 0.1, 1, 10, 1000]\n}\n\n# 3. Set up GridSearchCV with 10-fold cross-validation\nsvm_cv = GridSearchCV(\n    estimator=svm,\n    param_grid=parameters,\n    cv=10,                           # 10-fold cross-validation\n    scoring='accuracy'               # Metric to optimize\n)\n\n# 4. Fit GridSearchCV to training data\nsvm_cv.fit(X_train, Y_train)\n\n# 5. Output the best parameters and accuracy\nprint(\"Best SVM Parameters:\", svm_cv.best_params_)\nprint(\"Best Cross-Validation Accuracy:\", svm_cv.best_score_)",
      "metadata": {
        "trusted": true
      },
      "outputs": [
        {
          "name": "stdout",
          "text": "Best SVM Parameters: {'C': 1.0, 'gamma': 0.03162277660168379, 'kernel': 'sigmoid'}\nBest Cross-Validation Accuracy: 0.8482142857142856\n",
          "output_type": "stream"
        }
      ],
      "execution_count": 84
    },
    {
      "cell_type": "markdown",
      "source": "Explanation of Key Steps\nInitialize SVM\n\nsvm = SVC() creates a baseline Support Vector Classifier.\n\nDefine Hyperparameter Grid\n\nkernel: Determines the decision boundary type:\n\nlinear: Linear separation.\n\nrbf: Gaussian radial basis function (nonlinear).\n\npoly: Polynomial kernel.\n\nsigmoid: Sigmoid kernel.\n\nC: Regularization parameter (smaller C = smoother boundary).\nnp.logspace(-3, 3, 5) generates: [0.001, 0.1, 1, 10, 1000].\n\ngamma: Kernel coefficient (inverse reach of each training example).\nSame range as C.\n\nConfigure GridSearchCV\n\nTests all combinations of kernel, C, and gamma (4 kernels × 5 C × 5 gamma = 100 combinations).\n\nUses 10-fold cross-validation to evaluate each combination.\n\nFit and Evaluate\n\nsvm_cv.fit(X_train, Y_train) trains the model and selects the best parameters.\n\nOutputs the best configuration and its cross-validation accuracy.",
      "metadata": {}
    },
    {
      "cell_type": "code",
      "source": "print(\"tuned hpyerparameters :(best parameters) \",svm_cv.best_params_)\nprint(\"accuracy :\",svm_cv.best_score_)",
      "metadata": {
        "trusted": true
      },
      "outputs": [
        {
          "name": "stdout",
          "text": "tuned hpyerparameters :(best parameters)  {'C': 1.0, 'gamma': 0.03162277660168379, 'kernel': 'sigmoid'}\naccuracy : 0.8482142857142856\n",
          "output_type": "stream"
        }
      ],
      "execution_count": 85
    },
    {
      "cell_type": "markdown",
      "source": "## TASK  7\n",
      "metadata": {}
    },
    {
      "cell_type": "markdown",
      "source": "Calculate the accuracy on the test data using the method <code>score</code>:\n",
      "metadata": {}
    },
    {
      "cell_type": "code",
      "source": "# Calculate accuracy on the test set\nsvm_test_accuracy = svm_cv.score(X_test, Y_test)\n\n# Print the result\nprint(\"SVM Test Accuracy:\", svm_test_accuracy)",
      "metadata": {
        "trusted": true
      },
      "outputs": [
        {
          "name": "stdout",
          "text": "SVM Test Accuracy: 0.8333333333333334\n",
          "output_type": "stream"
        }
      ],
      "execution_count": 86
    },
    {
      "cell_type": "markdown",
      "source": "We can plot the confusion matrix\n",
      "metadata": {}
    },
    {
      "cell_type": "code",
      "source": "yhat=svm_cv.predict(X_test)\nplot_confusion_matrix(Y_test,yhat)",
      "metadata": {
        "trusted": true
      },
      "outputs": [
        {
          "output_type": "display_data",
          "data": {
            "text/plain": "<Figure size 640x480 with 2 Axes>",
            "image/png": "[encoded data removed]"
          },
          "metadata": {}
        }
      ],
      "execution_count": 87
    },
    {
      "cell_type": "markdown",
      "source": "## TASK  8\n",
      "metadata": {}
    },
    {
      "cell_type": "markdown",
      "source": "Create a decision tree classifier object then  create a  <code>GridSearchCV</code> object  <code>tree_cv</code> with cv = 10.  Fit the object to find the best parameters from the dictionary <code>parameters</code>.\n",
      "metadata": {}
    },
    {
      "cell_type": "code",
      "source": "parameters = {'criterion': ['gini', 'entropy'],\n     'splitter': ['best', 'random'],\n     'max_depth': [2*n for n in range(1,10)],\n     'max_features': ['auto', 'sqrt'],\n     'min_samples_leaf': [1, 2, 4],\n     'min_samples_split': [2, 5, 10]}\n\ntree = DecisionTreeClassifier()",
      "metadata": {
        "trusted": true
      },
      "outputs": [],
      "execution_count": 88
    },
    {
      "cell_type": "code",
      "source": "from sklearn.tree import DecisionTreeClassifier\nfrom sklearn.model_selection import GridSearchCV\nimport numpy as np\n\n# 1. Initialize Decision Tree\ntree = DecisionTreeClassifier(random_state=42)\n\n# 2. Define CORRECTED hyperparameter grid\nparameters = {\n    'criterion': ['gini', 'entropy'],\n    'splitter': ['best', 'random'],\n    'max_depth': [2*n for n in range(1, 10)],  # [2, 4, 6, ..., 18]\n    'max_features': ['sqrt', None],            # Removed 'auto', added None\n    'min_samples_leaf': [1, 2, 4],\n    'min_samples_split': [2, 5, 10]\n}\n\n# 3. Set up GridSearchCV with 10-fold cross-validation\ntree_cv = GridSearchCV(\n    estimator=tree,\n    param_grid=parameters,\n    cv=10,\n    scoring='accuracy',\n    error_score='raise'  # Helps debug if other issues arise\n)\n\n# 4. Fit GridSearchCV to training data\ntree_cv.fit(X_train, Y_train)\n\n# 5. Output the best parameters and accuracy\nprint(\"Best Decision Tree Parameters:\", tree_cv.best_params_)\nprint(\"Best Cross-Validation Accuracy:\", tree_cv.best_score_)",
      "metadata": {
        "trusted": true
      },
      "outputs": [
        {
          "name": "stdout",
          "text": "Best Decision Tree Parameters: {'criterion': 'entropy', 'max_depth': 8, 'max_features': 'sqrt', 'min_samples_leaf': 2, 'min_samples_split': 2, 'splitter': 'random'}\nBest Cross-Validation Accuracy: 0.875\n",
          "output_type": "stream"
        }
      ],
      "execution_count": 89
    },
    {
      "cell_type": "code",
      "source": "print(\"tuned hpyerparameters :(best parameters) \",tree_cv.best_params_)\nprint(\"accuracy :\",tree_cv.best_score_)",
      "metadata": {
        "trusted": true
      },
      "outputs": [
        {
          "name": "stdout",
          "text": "tuned hpyerparameters :(best parameters)  {'criterion': 'entropy', 'max_depth': 8, 'max_features': 'sqrt', 'min_samples_leaf': 2, 'min_samples_split': 2, 'splitter': 'random'}\naccuracy : 0.875\n",
          "output_type": "stream"
        }
      ],
      "execution_count": 90
    },
    {
      "cell_type": "markdown",
      "source": "## TASK  9\n",
      "metadata": {}
    },
    {
      "cell_type": "markdown",
      "source": "Calculate the accuracy of tree_cv on the test data using the method <code>score</code>:\n",
      "metadata": {}
    },
    {
      "cell_type": "code",
      "source": "# Calculate accuracy on the test set\ntree_test_accuracy = tree_cv.score(X_test, Y_test)\n\n# Print the result with 4 decimal precision\nprint(f\"Decision Tree Test Accuracy: {tree_test_accuracy:.4f}\")",
      "metadata": {
        "trusted": true
      },
      "outputs": [
        {
          "name": "stdout",
          "text": "Decision Tree Test Accuracy: 0.9444\n",
          "output_type": "stream"
        }
      ],
      "execution_count": 91
    },
    {
      "cell_type": "markdown",
      "source": "Explanation\ntree_cv.score(X_test, Y_test)\n\nComputes the mean accuracy of the Decision Tree model on the test data.\n\nFormula:\n\nAccuracy\n=\nNumber of correct predictions\nTotal predictions\nAccuracy= \nTotal predictions\nNumber of correct predictions\n​\n \n.4f Formatting\n\nDisplays the accuracy with 4 decimal places for better readability (e.g., 0.8750 instead of 0.875).",
      "metadata": {}
    },
    {
      "cell_type": "markdown",
      "source": "We can plot the confusion matrix\n",
      "metadata": {}
    },
    {
      "cell_type": "code",
      "source": "yhat = tree_cv.predict(X_test)\nplot_confusion_matrix(Y_test,yhat)",
      "metadata": {
        "trusted": true
      },
      "outputs": [
        {
          "output_type": "display_data",
          "data": {
            "text/plain": "<Figure size 640x480 with 2 Axes>",
            "image/png": "[encoded data removed]"
          },
          "metadata": {}
        }
      ],
      "execution_count": 92
    },
    {
      "cell_type": "markdown",
      "source": "## TASK  10\n",
      "metadata": {}
    },
    {
      "cell_type": "markdown",
      "source": "Create a k nearest neighbors object then  create a  <code>GridSearchCV</code> object  <code>knn_cv</code> with cv = 10.  Fit the object to find the best parameters from the dictionary <code>parameters</code>.\n",
      "metadata": {}
    },
    {
      "cell_type": "code",
      "source": "parameters = {'n_neighbors': [1, 2, 3, 4, 5, 6, 7, 8, 9, 10],\n              'algorithm': ['auto', 'ball_tree', 'kd_tree', 'brute'],\n              'p': [1,2]}\n\nKNN = KNeighborsClassifier()",
      "metadata": {
        "trusted": true
      },
      "outputs": [],
      "execution_count": 93
    },
    {
      "cell_type": "code",
      "source": "# Paso 1: Crear el objeto KNN\nknn = KNeighborsClassifier()\n\n# Paso 2: Definir los parámetros para la búsqueda en grid\nparameters = {'n_neighbors': [1, 2, 3, 4, 5, 6, 7, 8, 9, 10],\n              'algorithm': ['auto', 'ball_tree', 'kd_tree', 'brute'],\n              'p': [1, 2]}\n\n# Paso 3: Crear el objeto GridSearchCV con validación cruzada (cv=10)\nknn_cv = GridSearchCV(knn, parameters, cv=10)\n\n# Paso 4: Ajustar el modelo para encontrar los mejores parámetros\nknn_cv.fit(X_train, Y_train)\n\n# Paso 5: Mostrar los mejores parámetros encontrados\nprint(\"Mejores parámetros para KNN:\", knn_cv.best_params_)\nprint(\"Mejor precisión para KNN:\", knn_cv.best_score_)",
      "metadata": {
        "trusted": true
      },
      "outputs": [
        {
          "name": "stdout",
          "text": "Mejores parámetros para KNN: {'algorithm': 'auto', 'n_neighbors': 10, 'p': 1}\nMejor precisión para KNN: 0.8482142857142858\n",
          "output_type": "stream"
        }
      ],
      "execution_count": 94
    },
    {
      "cell_type": "code",
      "source": "print(\"tuned hpyerparameters :(best parameters) \",knn_cv.best_params_)\nprint(\"accuracy :\",knn_cv.best_score_)",
      "metadata": {
        "trusted": true
      },
      "outputs": [
        {
          "name": "stdout",
          "text": "tuned hpyerparameters :(best parameters)  {'algorithm': 'auto', 'n_neighbors': 10, 'p': 1}\naccuracy : 0.8482142857142858\n",
          "output_type": "stream"
        }
      ],
      "execution_count": 95
    },
    {
      "cell_type": "markdown",
      "source": "## TASK  11\n",
      "metadata": {}
    },
    {
      "cell_type": "markdown",
      "source": "Calculate the accuracy of knn_cv on the test data using the method <code>score</code>:\n",
      "metadata": {}
    },
    {
      "cell_type": "code",
      "source": "# Calcular la precisión en los datos de prueba\nknn_accuracy = knn_cv.score(X_test, Y_test)\n\nprint(f\"Precisión de KNN en datos de prueba: {knn_accuracy:.4f}\")",
      "metadata": {
        "trusted": true
      },
      "outputs": [
        {
          "name": "stdout",
          "text": "Precisión de KNN en datos de prueba: 0.8333\n",
          "output_type": "stream"
        }
      ],
      "execution_count": 96
    },
    {
      "cell_type": "markdown",
      "source": "We can plot the confusion matrix\n",
      "metadata": {}
    },
    {
      "cell_type": "code",
      "source": "yhat = knn_cv.predict(X_test)\nplot_confusion_matrix(Y_test,yhat)",
      "metadata": {
        "trusted": true
      },
      "outputs": [
        {
          "output_type": "display_data",
          "data": {
            "text/plain": "<Figure size 640x480 with 2 Axes>",
            "image/png": "[encoded data removed]"
          },
          "metadata": {}
        }
      ],
      "execution_count": 97
    },
    {
      "cell_type": "markdown",
      "source": "## TASK  12\n",
      "metadata": {}
    },
    {
      "cell_type": "markdown",
      "source": "Find the method performs best:\n",
      "metadata": {}
    },
    {
      "cell_type": "code",
      "source": "# Primero, necesitamos entrenar todos los modelos (incluyendo Logistic Regression)\nfrom sklearn.linear_model import LogisticRegression\n\n# 1. Entrenar modelo de Regresión Logística con GridSearchCV\nparameters_lr = {'C': [0.01, 0.1, 1, 10],\n                'penalty': ['l2'],\n                'solver': ['lbfgs', 'liblinear']}\n\nlr = LogisticRegression()\nlr_cv = GridSearchCV(lr, parameters_lr, cv=10)\nlr_cv.fit(X_train, Y_train)\n\n# 2. Entrenar modelo SVM (si no lo has hecho)\nparameters_svm = {'kernel': ('linear', 'rbf','poly','sigmoid'),\n                  'C': [0.1, 1, 10],\n                  'gamma': [0.1, 0.01]}\n\nsvm = SVC()\nsvm_cv = GridSearchCV(svm, parameters_svm, cv=10)\nsvm_cv.fit(X_train, Y_train)\n\n# 3. Entrenar modelo de Árbol de Decisión (si no lo has hecho)\nparameters_tree = {'criterion': ['gini', 'entropy'],\n                   'splitter': ['best', 'random'],\n                   'max_depth': [2, 4, 6, 8, 10, 12, None]}\n\ntree = DecisionTreeClassifier()\ntree_cv = GridSearchCV(tree, parameters_tree, cv=10)\ntree_cv.fit(X_train, Y_train)\n\n# 4. KNN ya debería estar definido de la tarea anterior\n\n# Ahora sí podemos hacer la comparación\nmodels = {\n    'SVM': svm_cv.score(X_test, Y_test),\n    'Decision Tree': tree_cv.score(X_test, Y_test),\n    'Logistic Regression': lr_cv.score(X_test, Y_test),\n    'K-Nearest Neighbors': knn_cv.score(X_test, Y_test)\n}\n\n# Mostrar resultados\nprint(\"Comparación de precisión en datos de prueba:\")\nfor model_name, accuracy in models.items():\n    print(f\"{model_name}: {accuracy:.4f}\")\n\n# Identificar el mejor modelo\nbest_model = max(models, key=models.get)\nprint(f\"\\nEl mejor modelo es: {best_model} con precisión {models[best_model]:.4f}\")\n\n# Gráfico de comparación\nplt.figure(figsize=(10, 6))\nplt.bar(models.keys(), models.values(), color=['blue', 'green', 'red', 'purple'])\nplt.title('Comparación de precisión entre modelos')\nplt.ylabel('Precisión')\nplt.ylim(0, 1)\nplt.xticks(rotation=45)\nplt.show()",
      "metadata": {
        "trusted": true
      },
      "outputs": [
        {
          "name": "stdout",
          "text": "Comparación de precisión en datos de prueba:\nSVM: 0.8333\nDecision Tree: 0.8333\nLogistic Regression: 0.8333\nK-Nearest Neighbors: 0.8333\n\nEl mejor modelo es: SVM con precisión 0.8333\n",
          "output_type": "stream"
        },
        {
          "output_type": "display_data",
          "data": {
            "text/plain": "<Figure size 1000x600 with 1 Axes>",
            "image/png": "[encoded data removed]"
          },
          "metadata": {}
        }
      ],
      "execution_count": 99
    },
    {
      "cell_type": "code",
      "source": "# Para una comparación más robusta, podríamos usar validación cruzada en todos los modelos:\nfrom sklearn.model_selection import cross_val_score\n\nfor model_name, model in [('SVM', svm_cv.best_estimator_), \n                         ('Decision Tree', tree_cv.best_estimator_),\n                         ('Logistic Regression', lr_cv.best_estimator_),\n                         ('KNN', knn_cv.best_estimator_)]:\n    scores = cross_val_score(model, X, Y, cv=10)\n    print(f\"{model_name} - Precisión media en CV: {scores.mean():.4f} (±{scores.std():.4f})\")",
      "metadata": {
        "trusted": true
      },
      "outputs": [
        {
          "name": "stdout",
          "text": "SVM - Precisión media en CV: 0.8333 (±0.1139)\nDecision Tree - Precisión media en CV: 0.7889 (±0.1889)\nLogistic Regression - Precisión media en CV: 0.8222 (±0.1133)\nKNN - Precisión media en CV: 0.8333 (±0.1139)\n",
          "output_type": "stream"
        }
      ],
      "execution_count": 100
    },
    {
      "cell_type": "markdown",
      "source": "## Authors\n",
      "metadata": {}
    },
    {
      "cell_type": "markdown",
      "source": "[Pratiksha Verma](https://www.linkedin.com/in/pratiksha-verma-6487561b1/)\n",
      "metadata": {}
    },
    {
      "cell_type": "markdown",
      "source": "<!--## Change Log--!>\n",
      "metadata": {}
    },
    {
      "cell_type": "markdown",
      "source": "<!--| Date (YYYY-MM-DD) | Version | Changed By      | Change Description      |\n| ----------------- | ------- | -------------   | ----------------------- |\n| 2022-11-09        | 1.0     | Pratiksha Verma | Converted initial version to Jupyterlite|--!>\n",
      "metadata": {}
    },
    {
      "cell_type": "markdown",
      "source": "### <h3 align=\"center\"> IBM Corporation 2022. All rights reserved. <h3/>\n",
      "metadata": {}
    }
  ]
}